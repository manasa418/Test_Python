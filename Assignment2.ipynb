{
 "cells": [
  {
   "cell_type": "code",
   "execution_count": null,
   "id": "7176c180",
   "metadata": {},
   "outputs": [],
   "source": [
    "#1.What are the two values of the Boolean data type? How do you write them?"
   ]
  },
  {
   "cell_type": "code",
   "execution_count": null,
   "id": "0b370d95",
   "metadata": {},
   "outputs": [],
   "source": [
    "The two values of Boolean data type are True and False."
   ]
  },
  {
   "cell_type": "code",
   "execution_count": null,
   "id": "a5337d48",
   "metadata": {},
   "outputs": [],
   "source": [
    "#2. What are the three different types of Boolean operators?"
   ]
  },
  {
   "cell_type": "code",
   "execution_count": null,
   "id": "1d19aa6b",
   "metadata": {},
   "outputs": [],
   "source": [
    "AND, OR, NOT"
   ]
  },
  {
   "cell_type": "code",
   "execution_count": null,
   "id": "67af8ddc",
   "metadata": {},
   "outputs": [],
   "source": [
    "#3. Make a list of each Boolean operator's truth tables (i.e. every possible combination of Boolean\n",
    "values for the operator and what it evaluate )."
   ]
  },
  {
   "cell_type": "code",
   "execution_count": null,
   "id": "477f63ac",
   "metadata": {},
   "outputs": [],
   "source": [
    "AND:\n",
    "    1 0 0\n",
    "    0 1 0\n",
    "    1 1 1\n",
    "    0 0 0\n",
    "OR:\n",
    "    1 0 1\n",
    "    0 1 1\n",
    "    1 1 1\n",
    "    0 0 0\n",
    "    \n",
    "NOT:\n",
    "    1 0\n",
    "    0 1"
   ]
  },
  {
   "cell_type": "code",
   "execution_count": null,
   "id": "322e160a",
   "metadata": {},
   "outputs": [],
   "source": [
    "#4. What are the values of the following expressions?\n",
    "(5 > 4) and (3 == 5)\n",
    "not (5 > 4)\n",
    "(5 > 4) or (3 == 5)\n",
    "not ((5 > 4) or (3 == 5))\n",
    "(True and True) and (True == False)\n",
    "(not False) or (not True)"
   ]
  },
  {
   "cell_type": "code",
   "execution_count": null,
   "id": "e1845c9b",
   "metadata": {},
   "outputs": [],
   "source": [
    "(5 > 4) and (3 == 5)      : False\n",
    "not (5 > 4)               : False  \n",
    "(5 > 4) or (3 == 5)       : True\n",
    "not ((5 > 4) or (3 == 5)) : False\n",
    "(True and True) and (True == False)  : False\n",
    "(not False) or (not True)    : True"
   ]
  },
  {
   "cell_type": "code",
   "execution_count": null,
   "id": "79820d12",
   "metadata": {},
   "outputs": [],
   "source": [
    "#5. What are the six comparison operators?"
   ]
  },
  {
   "cell_type": "code",
   "execution_count": null,
   "id": "e619281c",
   "metadata": {},
   "outputs": [],
   "source": [
    "Greater than(>)\n",
    "Greater than or equal to(>=)\n",
    "Less than(<)\n",
    "Less than or equal to(<=)\n",
    "Equal to(==)\n",
    "Not Equal to(!=)"
   ]
  },
  {
   "cell_type": "code",
   "execution_count": null,
   "id": "84982476",
   "metadata": {},
   "outputs": [],
   "source": [
    "#6. How do you tell the difference between the equal to and assignment operators?Describe a\n",
    "condition and when you would use one."
   ]
  },
  {
   "cell_type": "code",
   "execution_count": null,
   "id": "272af687",
   "metadata": {},
   "outputs": [],
   "source": [
    "Equal to(==) operator compares between two values,if equal return true or else false.\n",
    "Ex:\n",
    "    5==5(True)\n",
    "    \n",
    "Assignment operators(=) used to assign the result of the expression on the right side of the operator to the variable on the left side.\n",
    "\n",
    "a=10\n",
    "b=20"
   ]
  },
  {
   "cell_type": "code",
   "execution_count": null,
   "id": "78e18cc1",
   "metadata": {},
   "outputs": [],
   "source": [
    "#7. Identify the three blocks in this code:\n",
    "spam = 0\n",
    "if spam == 10:\n",
    "print('eggs')\n",
    "if spam > 5:\n",
    "print('bacon')\n",
    "else:\n",
    "print('ham')\n",
    "print('spam')\n",
    "print('spam')"
   ]
  },
  {
   "cell_type": "code",
   "execution_count": null,
   "id": "7678596b",
   "metadata": {},
   "outputs": [],
   "source": [
    "if block, if block, else block"
   ]
  },
  {
   "cell_type": "code",
   "execution_count": null,
   "id": "503f71fc",
   "metadata": {},
   "outputs": [],
   "source": [
    "#8. Write code that prints Hello if 1 is stored in spam, prints Howdy if 2 is stored in spam, and prints\n",
    "Greetings! if anything else is stored in spam."
   ]
  },
  {
   "cell_type": "code",
   "execution_count": 21,
   "id": "e78b11b8",
   "metadata": {},
   "outputs": [
    {
     "name": "stdout",
     "output_type": "stream",
     "text": [
      "Enter spam value: 2\n",
      "Howdy\n"
     ]
    }
   ],
   "source": [
    "spam=int(input(\"Enter spam value: \"))\n",
    "if spam == 1:\n",
    "    print(\"Hello\")\n",
    "elif spam == 2:\n",
    "    print(\"Howdy\")\n",
    "else:\n",
    "    print(\"Greetings!\")"
   ]
  },
  {
   "cell_type": "code",
   "execution_count": null,
   "id": "fe18c588",
   "metadata": {},
   "outputs": [],
   "source": [
    "#9.If your programme is stuck in an endless loop, what keys you’ll press?"
   ]
  },
  {
   "cell_type": "code",
   "execution_count": null,
   "id": "de5d2e4f",
   "metadata": {},
   "outputs": [],
   "source": [
    "ctrl+c"
   ]
  },
  {
   "cell_type": "code",
   "execution_count": null,
   "id": "5b83a9e6",
   "metadata": {},
   "outputs": [],
   "source": [
    "#10. How can you tell the difference between break and continue?"
   ]
  },
  {
   "cell_type": "code",
   "execution_count": null,
   "id": "3327c6be",
   "metadata": {},
   "outputs": [],
   "source": [
    "Continue:\n",
    "When continue key is used, immediate statement will not be executed and it goes back to the loop.\n",
    "The continue statement allows you to skip part of a loop when a condition is met\n",
    "Break:\n",
    "    break statement is used to exit from the loop.\n",
    "     When the loop ends, the code picks up from and executes the next line immediately following the loop that was broken."
   ]
  },
  {
   "cell_type": "code",
   "execution_count": null,
   "id": "68f3fc54",
   "metadata": {},
   "outputs": [],
   "source": [
    "#11. In a for loop, what is the difference between range(10), range(0, 10), and range(0, 10, 1)?"
   ]
  },
  {
   "cell_type": "code",
   "execution_count": null,
   "id": "439cda76",
   "metadata": {},
   "outputs": [],
   "source": [
    "range(10) -generates integer from 0 to 9 including 10 which is same as range(0,10) and range(0,10,1)\n",
    "range(0,10) - generates integer from 0 to 9 including 10\n",
    "range(0,10,1) - generates integer from 0 to 9 including 10 and the 1 includes the step size."
   ]
  },
  {
   "cell_type": "code",
   "execution_count": null,
   "id": "64b5d8fd",
   "metadata": {},
   "outputs": [],
   "source": [
    "#12. Write a short program that prints the numbers 1 to 10 using a for loop. Then write an equivalent\n",
    "program that prints the numbers 1 to 10 using a while loop."
   ]
  },
  {
   "cell_type": "code",
   "execution_count": 28,
   "id": "59c56dce",
   "metadata": {},
   "outputs": [
    {
     "name": "stdout",
     "output_type": "stream",
     "text": [
      "1\n",
      "2\n",
      "3\n",
      "4\n",
      "5\n",
      "6\n",
      "7\n",
      "8\n",
      "9\n",
      "10\n"
     ]
    }
   ],
   "source": [
    "for i in range(1,11):\n",
    "    print(i) "
   ]
  },
  {
   "cell_type": "code",
   "execution_count": 29,
   "id": "6a5b8390",
   "metadata": {},
   "outputs": [
    {
     "name": "stdout",
     "output_type": "stream",
     "text": [
      "1\n",
      "2\n",
      "3\n",
      "4\n",
      "5\n",
      "6\n",
      "7\n",
      "8\n",
      "9\n",
      "10\n"
     ]
    }
   ],
   "source": [
    "i = 1\n",
    "while(i<=10):\n",
    "    print(i)\n",
    "    i += 1"
   ]
  },
  {
   "cell_type": "code",
   "execution_count": null,
   "id": "a29a5c15",
   "metadata": {},
   "outputs": [],
   "source": [
    "#13. If you had a function named bacon() inside a module named spam, how would you call it after\n",
    "importing spam?"
   ]
  },
  {
   "cell_type": "code",
   "execution_count": null,
   "id": "fbeee14a",
   "metadata": {},
   "outputs": [],
   "source": [
    "spam.bacon()"
   ]
  }
 ],
 "metadata": {
  "kernelspec": {
   "display_name": "Python 3 (ipykernel)",
   "language": "python",
   "name": "python3"
  },
  "language_info": {
   "codemirror_mode": {
    "name": "ipython",
    "version": 3
   },
   "file_extension": ".py",
   "mimetype": "text/x-python",
   "name": "python",
   "nbconvert_exporter": "python",
   "pygments_lexer": "ipython3",
   "version": "3.9.7"
  }
 },
 "nbformat": 4,
 "nbformat_minor": 5
}
