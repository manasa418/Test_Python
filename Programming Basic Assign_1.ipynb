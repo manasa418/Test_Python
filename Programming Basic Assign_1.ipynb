{
 "cells": [
  {
   "cell_type": "code",
   "execution_count": null,
   "id": "72dbd1d7",
   "metadata": {},
   "outputs": [],
   "source": [
    "#1. Write a Python program to print &quot;Hello Python&quot;?"
   ]
  },
  {
   "cell_type": "code",
   "execution_count": null,
   "id": "75823973",
   "metadata": {},
   "outputs": [],
   "source": [
    "print('Hello Python')"
   ]
  },
  {
   "cell_type": "code",
   "execution_count": null,
   "id": "6e43927f",
   "metadata": {},
   "outputs": [],
   "source": [
    "#2. Write a Python program to do arithmetical operations addition and division.?"
   ]
  },
  {
   "cell_type": "code",
   "execution_count": null,
   "id": "471ec559",
   "metadata": {},
   "outputs": [],
   "source": [
    "a=int(input(\"Enter a value: \"))\n",
    "b=int(input(\"Enter b value: \"))\n",
    "sum= a+b\n",
    "div=a/b\n",
    "print('The sum of {0} and {1} is {2}'.format(a, b, sum)) \n",
    "print('The div of {0} and {1} is {2}'.format(a, b, div)) \n"
   ]
  },
  {
   "cell_type": "code",
   "execution_count": null,
   "id": "89fbb73b",
   "metadata": {},
   "outputs": [],
   "source": [
    "#3. Write a Python program to find the area of a triangle?"
   ]
  },
  {
   "cell_type": "code",
   "execution_count": 152,
   "id": "609c6989",
   "metadata": {},
   "outputs": [
    {
     "name": "stdout",
     "output_type": "stream",
     "text": [
      "Enter the length value : 4\n",
      "Enter the breadth value: 2\n",
      "The area of the triangle is 4.00\n"
     ]
    }
   ],
   "source": [
    "length = float(input(\"Enter the length value : \"))\n",
    "breadth = float(input(\"Enter the breadth value: \"))\n",
    "Area = 1/2*length*breadth\n",
    "print('The area of the triangle is %0.2f' %Area)"
   ]
  },
  {
   "cell_type": "code",
   "execution_count": null,
   "id": "e0ae663c",
   "metadata": {},
   "outputs": [],
   "source": [
    "#4. Write a Python program to swap two variables?"
   ]
  },
  {
   "cell_type": "code",
   "execution_count": 156,
   "id": "edf8dc87",
   "metadata": {},
   "outputs": [
    {
     "name": "stdout",
     "output_type": "stream",
     "text": [
      "Enter x value: 23\n",
      "Enter y value: 43\n",
      "After Swappng x value = 43\n",
      "After Swappng y value = 23\n"
     ]
    }
   ],
   "source": [
    "x=int(input(\"Enter x value: \"))\n",
    "y=int(input(\"Enter y value: \"))\n",
    "x,y=y,x\n",
    "print(\"After Swappng x value =\", x)\n",
    "print(\"After Swappng y value =\", y)"
   ]
  },
  {
   "cell_type": "code",
   "execution_count": null,
   "id": "ceafab84",
   "metadata": {},
   "outputs": [],
   "source": [
    "#5. Write a Python program to generate a random number?"
   ]
  },
  {
   "cell_type": "code",
   "execution_count": 182,
   "id": "f25d1137",
   "metadata": {},
   "outputs": [
    {
     "name": "stdout",
     "output_type": "stream",
     "text": [
      "The Random Number = 31\n"
     ]
    }
   ],
   "source": [
    "import random\n",
    "x=random.randint(a,b)\n",
    "print(\"The Random Number =\",x)"
   ]
  }
 ],
 "metadata": {
  "kernelspec": {
   "display_name": "Python 3 (ipykernel)",
   "language": "python",
   "name": "python3"
  },
  "language_info": {
   "codemirror_mode": {
    "name": "ipython",
    "version": 3
   },
   "file_extension": ".py",
   "mimetype": "text/x-python",
   "name": "python",
   "nbconvert_exporter": "python",
   "pygments_lexer": "ipython3",
   "version": "3.9.7"
  }
 },
 "nbformat": 4,
 "nbformat_minor": 5
}
