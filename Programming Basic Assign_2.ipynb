{
 "cells": [
  {
   "cell_type": "code",
   "execution_count": null,
   "id": "0438094a",
   "metadata": {},
   "outputs": [],
   "source": [
    "#1. Write a Python program to convert kilometers to miles?"
   ]
  },
  {
   "cell_type": "code",
   "execution_count": null,
   "id": "94a558cf",
   "metadata": {},
   "outputs": [],
   "source": [
    "x=float(input(\"Enter value in kilometers : \"))\n",
    "miles= x*0.621371\n",
    "print(\"Converted miles : \" , miles)\n",
    "print('%0.2f kilometers is equal to %0.2f miles' %(x,miles))"
   ]
  },
  {
   "cell_type": "code",
   "execution_count": null,
   "id": "a82beb23",
   "metadata": {},
   "outputs": [],
   "source": [
    "#2.Write a Python program to convert Celsius to Fahrenheit?"
   ]
  },
  {
   "cell_type": "code",
   "execution_count": null,
   "id": "9e6b9b5c",
   "metadata": {},
   "outputs": [],
   "source": [
    "a=float(input(\"Enter value in celsius : \"))\n",
    "Fahrenheit= (a * 9/5) + 32\n",
    "print('%0.2f celsius is equal to %0.2f Fahrenheit' %(a,Fahrenheit))"
   ]
  },
  {
   "cell_type": "code",
   "execution_count": null,
   "id": "760fe7b1",
   "metadata": {},
   "outputs": [],
   "source": [
    "#3. Write a Python program to display calendar?"
   ]
  },
  {
   "cell_type": "code",
   "execution_count": 1,
   "id": "e26ab225",
   "metadata": {},
   "outputs": [
    {
     "name": "stdout",
     "output_type": "stream",
     "text": [
      "Enter year: 2014\n",
      "Enter month: 12\n",
      "   December 2014\n",
      "Mo Tu We Th Fr Sa Su\n",
      " 1  2  3  4  5  6  7\n",
      " 8  9 10 11 12 13 14\n",
      "15 16 17 18 19 20 21\n",
      "22 23 24 25 26 27 28\n",
      "29 30 31\n",
      "\n"
     ]
    }
   ],
   "source": [
    "import calendar\n",
    "yy = int(input(\"Enter year: \"))  \n",
    "mm = int(input(\"Enter month: \"))  \n",
    "  \n",
    "# display the calendar  \n",
    "print(calendar.month(yy,mm)) "
   ]
  },
  {
   "cell_type": "code",
   "execution_count": null,
   "id": "57ca036c",
   "metadata": {},
   "outputs": [],
   "source": [
    "#4. Write a Python program to solve quadratic equation?"
   ]
  },
  {
   "cell_type": "code",
   "execution_count": null,
   "id": "2d5982d8",
   "metadata": {},
   "outputs": [],
   "source": [
    "import cmath  \n",
    "a = float(input('Enter a: '))  \n",
    "b = float(input('Enter b: '))  \n",
    "c = float(input('Enter c: '))  \n",
    "  \n",
    "# calculate the discriminant  \n",
    "d = (b**2) - (4*a*c)  \n",
    "  \n",
    "# find two solutions  \n",
    "sol1 = (-b-cmath.sqrt(d))/(2*a)  \n",
    "sol2 = (-b+cmath.sqrt(d))/(2*a)  \n",
    "print('The solution are {0} and {1}'.format(sol1,sol2))"
   ]
  },
  {
   "cell_type": "code",
   "execution_count": null,
   "id": "a86cf5d3",
   "metadata": {},
   "outputs": [],
   "source": [
    "#5. Write a Python program to swap two variables without temp variable?"
   ]
  },
  {
   "cell_type": "code",
   "execution_count": 2,
   "id": "72892a64",
   "metadata": {},
   "outputs": [
    {
     "name": "stdout",
     "output_type": "stream",
     "text": [
      "Enter x value: 3\n",
      "Enter y value: 4\n",
      "After Swappng x value = 4\n",
      "After Swappng y value = 3\n"
     ]
    }
   ],
   "source": [
    "x=int(input(\"Enter x value: \"))\n",
    "y=int(input(\"Enter y value: \"))\n",
    "x,y=y,x\n",
    "print(\"After Swappng x value =\", x)\n",
    "print(\"After Swappng y value =\", y)"
   ]
  }
 ],
 "metadata": {
  "kernelspec": {
   "display_name": "Python 3 (ipykernel)",
   "language": "python",
   "name": "python3"
  },
  "language_info": {
   "codemirror_mode": {
    "name": "ipython",
    "version": 3
   },
   "file_extension": ".py",
   "mimetype": "text/x-python",
   "name": "python",
   "nbconvert_exporter": "python",
   "pygments_lexer": "ipython3",
   "version": "3.9.7"
  }
 },
 "nbformat": 4,
 "nbformat_minor": 5
}
