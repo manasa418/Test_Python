{
 "cells": [
  {
   "cell_type": "code",
   "execution_count": null,
   "id": "68dc7d92",
   "metadata": {},
   "outputs": [],
   "source": [
    "#1. Write a Python Program to Find the Factorial of a Number?"
   ]
  },
  {
   "cell_type": "code",
   "execution_count": 21,
   "id": "0aca9281",
   "metadata": {},
   "outputs": [
    {
     "name": "stdout",
     "output_type": "stream",
     "text": [
      "Enter Number : 3\n",
      "Factorial of  3 is 6\n"
     ]
    }
   ],
   "source": [
    "def factorial(n):\n",
    "     \n",
    "    # single line to find factorial\n",
    "    return 1 if (n==1 or n==0) else n * factorial(n - 1);\n",
    " \n",
    "# Driver Code\n",
    "num = int(input(\"Enter Number : \"));\n",
    "print(\"Factorial of \", num ,\"is\" , factorial(num))"
   ]
  },
  {
   "cell_type": "code",
   "execution_count": null,
   "id": "7f56d34a",
   "metadata": {},
   "outputs": [],
   "source": [
    "#2. Write a Python Program to Display the multiplication Table?"
   ]
  },
  {
   "cell_type": "code",
   "execution_count": 1,
   "id": "1bd8b8b4",
   "metadata": {},
   "outputs": [
    {
     "name": "stdout",
     "output_type": "stream",
     "text": [
      "Enter the number : 5\n",
      "The Multiplication Table of :  5\n",
      "5 x 1 = 5\n",
      "5 x 2 = 10\n",
      "5 x 3 = 15\n",
      "5 x 4 = 20\n",
      "5 x 5 = 25\n",
      "5 x 6 = 30\n",
      "5 x 7 = 35\n",
      "5 x 8 = 40\n",
      "5 x 9 = 45\n",
      "5 x 10 = 50\n",
      "5 x 11 = 55\n",
      "5 x 12 = 60\n",
      "5 x 13 = 65\n",
      "5 x 14 = 70\n",
      "5 x 15 = 75\n",
      "5 x 16 = 80\n",
      "5 x 17 = 85\n",
      "5 x 18 = 90\n",
      "5 x 19 = 95\n",
      "5 x 20 = 100\n"
     ]
    }
   ],
   "source": [
    "number = int(input(\"Enter the number : \"))\n",
    "print (\"The Multiplication Table of : \", number)\n",
    "for count in range(1,21):\n",
    "     print (number, 'x', count, '=', number * count) \n",
    "      "
   ]
  },
  {
   "cell_type": "code",
   "execution_count": null,
   "id": "82b19317",
   "metadata": {},
   "outputs": [],
   "source": [
    "#3. Write a Python Program to Print the Fibonacci sequence?"
   ]
  },
  {
   "cell_type": "code",
   "execution_count": 33,
   "id": "8ce5f383",
   "metadata": {},
   "outputs": [
    {
     "name": "stdout",
     "output_type": "stream",
     "text": [
      "Till what number would you like to see the fibonacci sequence: 8\n",
      "1\n",
      "1\n",
      "2\n",
      "3\n",
      "5\n",
      "8\n"
     ]
    }
   ],
   "source": [
    "a = 0\n",
    "b = 1\n",
    "f = 1\n",
    "n = int(input(\"Till what number would you like to see the fibonacci sequence: \"))\n",
    "while b <= n:\n",
    "    f = a+b\n",
    "    a = b\n",
    "    b = f\n",
    "    print(a)"
   ]
  },
  {
   "cell_type": "code",
   "execution_count": null,
   "id": "8a9cf989",
   "metadata": {},
   "outputs": [],
   "source": [
    "#4.Write a Python Program to Check Armstrong Number?"
   ]
  },
  {
   "cell_type": "code",
   "execution_count": 4,
   "id": "f832ed8c",
   "metadata": {},
   "outputs": [
    {
     "name": "stdout",
     "output_type": "stream",
     "text": [
      "Enter a number: 153\n",
      "153 is an Armstrong number\n"
     ]
    }
   ],
   "source": [
    "num = int(input(\"Enter a number: \"))\n",
    "# initialize sum\n",
    "sum = 0\n",
    "# find the sum of the cube of each digit\n",
    "temp = num\n",
    "while temp > 0:\n",
    "   digit = temp % 10\n",
    "   sum += digit ** 3\n",
    "   temp //= 10\n",
    "# display the result\n",
    "if num == sum:\n",
    "   print(num,\"is an Armstrong number\")\n",
    "else:\n",
    "   print(num,\"is not an Armstrong number\")\n",
    "    \n",
    "    "
   ]
  },
  {
   "cell_type": "code",
   "execution_count": null,
   "id": "a29f9e58",
   "metadata": {},
   "outputs": [],
   "source": [
    "#5Write a Python Program to Find Armstrong Number in an Interval?"
   ]
  },
  {
   "cell_type": "code",
   "execution_count": 2,
   "id": "35c24b91",
   "metadata": {},
   "outputs": [
    {
     "name": "stdout",
     "output_type": "stream",
     "text": [
      "Enter lower range: 134\n",
      "Enter upper range: 675\n",
      "153\n",
      "216\n",
      "370\n",
      "371\n",
      "407\n"
     ]
    }
   ],
   "source": [
    "lower = int(input(\"Enter lower range: \"))  \n",
    "upper = int(input(\"Enter upper range: \"))  \n",
    "  \n",
    "for num in range(lower,upper + 1):  \n",
    "   sum = 0  \n",
    "   temp = num  \n",
    "   while temp > 0:  \n",
    "       digit = temp % 10  \n",
    "       sum += digit ** 3  \n",
    "       temp //= 10  \n",
    "       if num == sum:  \n",
    "            print(num)  "
   ]
  },
  {
   "cell_type": "code",
   "execution_count": null,
   "id": "b5a88d18",
   "metadata": {},
   "outputs": [],
   "source": [
    "#6.Write a Python Program to Find the Sum of Natural Numbers?"
   ]
  },
  {
   "cell_type": "code",
   "execution_count": 8,
   "id": "950a2e8b",
   "metadata": {},
   "outputs": [
    {
     "name": "stdout",
     "output_type": "stream",
     "text": [
      "Enter number  : 6\n",
      "Sum of Natural Numbers is :  21.0\n"
     ]
    }
   ],
   "source": [
    "n= int(input(\"Enter number  : \"))\n",
    "sum = n*(n+1)/2\n",
    "print(\"Sum of Natural Numbers is : \" , sum)"
   ]
  }
 ],
 "metadata": {
  "kernelspec": {
   "display_name": "Python 3 (ipykernel)",
   "language": "python",
   "name": "python3"
  },
  "language_info": {
   "codemirror_mode": {
    "name": "ipython",
    "version": 3
   },
   "file_extension": ".py",
   "mimetype": "text/x-python",
   "name": "python",
   "nbconvert_exporter": "python",
   "pygments_lexer": "ipython3",
   "version": "3.9.7"
  }
 },
 "nbformat": 4,
 "nbformat_minor": 5
}
