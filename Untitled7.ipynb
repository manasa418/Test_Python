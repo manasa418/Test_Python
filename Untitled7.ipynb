{
 "cells": [
  {
   "cell_type": "code",
   "execution_count": null,
   "id": "6631804b",
   "metadata": {},
   "outputs": [],
   "source": [
    "#1. In the below elements which of them are values or an expression? eg:- values can be\n",
    "integer or string and expressions will be mathematical operators.\n",
    "\n",
    "*\n",
    "'hello'\n",
    "-87.8\n",
    "-\n",
    "/\n",
    "  +\n",
    "6"
   ]
  },
  {
   "cell_type": "code",
   "execution_count": null,
   "id": "ca6cd305",
   "metadata": {},
   "outputs": [],
   "source": [
    " *      : expression\n",
    "'hello' : values\n",
    "-87.8   : values\n",
    "-       : expression\n",
    "/       : expression\n",
    "  +     : expression\n",
    "6       : values"
   ]
  },
  {
   "cell_type": "code",
   "execution_count": null,
   "id": "17a0df1a",
   "metadata": {},
   "outputs": [],
   "source": [
    "#2. What is the difference between string and variable?"
   ]
  },
  {
   "cell_type": "code",
   "execution_count": null,
   "id": "40afcce7",
   "metadata": {},
   "outputs": [],
   "source": [
    "Variable : \n",
    "    \n",
    "Variable are containers for storing values,no command for declaring a variable.\n",
    "A variable is created the moment we first assign a value to it.\n",
    "Ex:\n",
    "x = 4\n",
    "y = \"John\"\n",
    "\n",
    "String:\n",
    "    \n",
    "    Strings are surrounded by either single quotation marks, or double quotation marks.\n",
    "Ex:\n",
    "    'hello' or \"hello\"(both are same)\n",
    "    \n",
    "we can assign variable to string as below,\n",
    "a=\"hello\""
   ]
  },
  {
   "cell_type": "code",
   "execution_count": null,
   "id": "d5ac34df",
   "metadata": {},
   "outputs": [],
   "source": [
    "#3. Describe three different data types."
   ]
  },
  {
   "cell_type": "code",
   "execution_count": null,
   "id": "497df15e",
   "metadata": {},
   "outputs": [],
   "source": [
    "Numeric Types: int,float,complex\n",
    "Sequence Types: list, tuple, range\n",
    "Mapping Type: dict\n",
    "   "
   ]
  },
  {
   "cell_type": "code",
   "execution_count": null,
   "id": "d70072df",
   "metadata": {},
   "outputs": [],
   "source": [
    "#4. What is an expression made up of? What do all expressions do?"
   ]
  },
  {
   "cell_type": "code",
   "execution_count": null,
   "id": "f83a4777",
   "metadata": {},
   "outputs": [],
   "source": [
    "Expressions are made up of mathematical operators.\n",
    "An expression is a combination of values, variables, operators & calls to functions. Expressions need to be evaluated. \n",
    "An expression can return other types of values as well, such as boolean or String ."
   ]
  },
  {
   "cell_type": "code",
   "execution_count": null,
   "id": "2a46526a",
   "metadata": {},
   "outputs": [],
   "source": [
    "#5. This assignment statements, like spam = 10. What is the difference between an\n",
    "expression and a statement?"
   ]
  },
  {
   "cell_type": "code",
   "execution_count": null,
   "id": "a42e84ed",
   "metadata": {},
   "outputs": [],
   "source": [
    "Expression: Expression is representation of value.\n",
    "Evaluation of an expression always Produces or returns a result value.\n",
    "\n",
    "Statement:\n",
    "Execution of a statement may or may not produces or displays a result value, it only does whatever the statement says."
   ]
  },
  {
   "cell_type": "code",
   "execution_count": null,
   "id": "0a629b65",
   "metadata": {},
   "outputs": [],
   "source": [
    "#6.After running the following code, what does the variable bacon contain?\n",
    "bacon = 22\n",
    "bacon + 1"
   ]
  },
  {
   "cell_type": "code",
   "execution_count": null,
   "id": "a86f13d0",
   "metadata": {},
   "outputs": [],
   "source": [
    "bacon =23"
   ]
  },
  {
   "cell_type": "code",
   "execution_count": null,
   "id": "0462303c",
   "metadata": {},
   "outputs": [],
   "source": [
    "#7. What should the values of the following two terms be?\n",
    "'spam' + 'spamspam'\n",
    "'spam' * 3"
   ]
  },
  {
   "cell_type": "code",
   "execution_count": null,
   "id": "088efd00",
   "metadata": {},
   "outputs": [],
   "source": [
    "'spam' + 'spamspam' =  'spamspamspam'\n",
    "'spam' * 3 = 'spamspamspam'"
   ]
  },
  {
   "cell_type": "code",
   "execution_count": null,
   "id": "d61f7c0d",
   "metadata": {},
   "outputs": [],
   "source": [
    "#8. Why is eggs a valid variable name while 100 is invalid?"
   ]
  },
  {
   "cell_type": "code",
   "execution_count": null,
   "id": "87d5e8fe",
   "metadata": {},
   "outputs": [],
   "source": [
    "eggs is a valid variable name because it started with letter\n",
    "100 is invalid variable name becauseit started will number"
   ]
  },
  {
   "cell_type": "code",
   "execution_count": null,
   "id": "4e4eb751",
   "metadata": {},
   "outputs": [],
   "source": [
    "#9. What three functions can be used to get the integer, floating-point number, or string\n",
    "version of a value?"
   ]
  },
  {
   "cell_type": "code",
   "execution_count": null,
   "id": "6202fe5b",
   "metadata": {},
   "outputs": [],
   "source": [
    "int() , float() , and str( )"
   ]
  },
  {
   "cell_type": "code",
   "execution_count": null,
   "id": "11023fb2",
   "metadata": {},
   "outputs": [],
   "source": [
    "#10. Why does this expression cause an error? How can you fix it?\n",
    "'I have eaten' + 99 + 'burritos'"
   ]
  },
  {
   "cell_type": "code",
   "execution_count": null,
   "id": "50a0d375",
   "metadata": {},
   "outputs": [],
   "source": [
    "string and integer can not be concatinated, can concatenate str to str only.It throws error"
   ]
  }
 ],
 "metadata": {
  "kernelspec": {
   "display_name": "Python 3 (ipykernel)",
   "language": "python",
   "name": "python3"
  },
  "language_info": {
   "codemirror_mode": {
    "name": "ipython",
    "version": 3
   },
   "file_extension": ".py",
   "mimetype": "text/x-python",
   "name": "python",
   "nbconvert_exporter": "python",
   "pygments_lexer": "ipython3",
   "version": "3.9.7"
  }
 },
 "nbformat": 4,
 "nbformat_minor": 5
}
